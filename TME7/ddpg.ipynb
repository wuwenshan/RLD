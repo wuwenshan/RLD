{
 "cells": [
  {
   "cell_type": "markdown",
   "metadata": {},
   "source": [
    "# <font color=\"red\"><center> TME 7 : Continuous Actions </center></font>"
   ]
  },
  {
   "cell_type": "markdown",
   "metadata": {},
   "source": [
    "## Ce TME a pour objectif d’expérimenter l’approche DDPG pour environnements à actions continues."
   ]
  },
  {
   "cell_type": "code",
   "execution_count": 31,
   "metadata": {},
   "outputs": [],
   "source": [
    "import matplotlib\n",
    "import matplotlib.pyplot as plt\n",
    "\n",
    "import gym\n",
    "#import gridworld\n",
    "from gym import wrappers, logger\n",
    "import numpy as np\n",
    "import random\n",
    "from collections import deque\n",
    "import torch\n",
    "import torch.nn as nn\n",
    "import torch.optim as optim\n",
    "import torch.nn.functional as F\n",
    "import torchvision.transforms as T\n",
    "from collections import deque\n",
    "from tqdm import tqdm\n",
    "from torch.autograd import Variable"
   ]
  },
  {
   "cell_type": "markdown",
   "metadata": {},
   "source": [
    "## Réseaux de neurones"
   ]
  },
  {
   "cell_type": "code",
   "execution_count": 52,
   "metadata": {},
   "outputs": [],
   "source": [
    "class Critic(nn.Module):\n",
    "    def __init__(self, input_size, output_size, h1_size, h2_size):\n",
    "        super(Critic, self).__init__()\n",
    "        self.seq = torch.nn.Sequential(\n",
    "            torch.nn.Linear(input_size, h1_size),\n",
    "            torch.nn.ReLU(),\n",
    "            torch.nn.Linear(h1_size, h2_size),\n",
    "            torch.nn.ReLU(),\n",
    "            torch.nn.Linear(h2_size, output_size)\n",
    "        )\n",
    "\n",
    "    def forward(self, state, action):\n",
    "        \"\"\"\n",
    "        Params state and actions are torch tensors\n",
    "        \"\"\"\n",
    "        x = torch.cat([state, action], 1)\n",
    "        y = self.seq(x)\n",
    "\n",
    "        return y\n",
    "\n",
    "class Actor(nn.Module):\n",
    "    def __init__(self, input_size, output_size, h1_size, h2_size):\n",
    "        super(Actor, self).__init__()\n",
    "        self.seq = torch.nn.Sequential(\n",
    "            torch.nn.Linear(input_size, h1_size),\n",
    "            torch.nn.ReLU(),\n",
    "            torch.nn.Linear(h1_size, h2_size),\n",
    "            torch.nn.ReLU(),\n",
    "            torch.nn.Linear(h2_size, output_size),\n",
    "            torch.nn.Tanh()\n",
    "        )\n",
    "        \n",
    "    def forward(self, x):\n",
    "        \"\"\"\n",
    "        Param state is a torch tensor\n",
    "        \"\"\"\n",
    "        y = self.seq(x)\n",
    "\n",
    "        return y"
   ]
  },
  {
   "cell_type": "markdown",
   "metadata": {},
   "source": [
    "## Algorithme DDPG"
   ]
  },
  {
   "cell_type": "code",
   "execution_count": 82,
   "metadata": {},
   "outputs": [],
   "source": [
    "class DDPG():\n",
    "    \n",
    "    def __init__(self, h1_size, h2_size, envm, capacity, batch_size, updates_count=500, episode_count=100, gamma=0.99, actor_lr=1e-4, critic_lr=1e-3, tau=1e-2):\n",
    "        num_states = envm.observation_space.shape[0]\n",
    "        num_actions = envm.action_space.shape[0]\n",
    "        \n",
    "        self.actor = Actor(num_states, num_actions, h1_size, h2_size)\n",
    "        self.actor_target = Actor(num_states, num_actions, h1_size, h2_size)\n",
    "        self.critic = Critic(num_states + num_actions, num_actions, h1_size, h2_size)\n",
    "        self.critic_target = Critic(num_states + num_actions, num_actions, h1_size, h2_size)\n",
    "        \n",
    "        # We initialize the target networks as copies of the original networks\n",
    "        for target_param, param in zip(self.actor_target.parameters(), self.actor.parameters()):\n",
    "            target_param.data.copy_(param.data)\n",
    "        for target_param, param in zip(self.critic_target.parameters(), self.critic.parameters()):\n",
    "            target_param.data.copy_(param.data)\n",
    "            \n",
    "        self.episode_count = episode_count\n",
    "        self.updates_count = updates_count\n",
    "        self.envm = envm\n",
    "        self.memory = deque(maxlen=capacity)\n",
    "        self.batch_size = batch_size\n",
    "        self.tau = tau\n",
    "        self.gamma = gamma\n",
    "        self.MSELoss = torch.nn.MSELoss()\n",
    "        \n",
    "        self.actor_optimizer  = optim.Adam(self.actor.parameters(), lr=actor_lr)\n",
    "        self.critic_optimizer = optim.Adam(self.critic.parameters(), lr=critic_lr)\n",
    "        \n",
    "    def fit(self):\n",
    "        \n",
    "        all_rewards = []\n",
    "        \n",
    "        for _ in tqdm(range(self.episode_count)):\n",
    "            \n",
    "            rewards = 0\n",
    "            state = self.envm.reset()\n",
    "            done = False\n",
    "            \n",
    "            for _ in (range(self.updates_count)):\n",
    "\n",
    "                actor = self.actor( torch.tensor(state, dtype=torch.float32 ) )\n",
    "                eps = torch.randn(actor.size())\n",
    "                action = torch.clamp(actor + eps, self.envm.action_space.low[0], self.envm.action_space.high[0])\n",
    "                new_state, reward, done, _ = env.step(action.detach().numpy())\n",
    "                \n",
    "                rewards += reward\n",
    "                self.memory.append([state, action.detach().numpy(), reward, new_state, done])\n",
    "\n",
    "                if done:\n",
    "                    break\n",
    "                    \n",
    "                state = new_state\n",
    "                \n",
    "                if self.batch_size < len(self.memory):\n",
    "                        \n",
    "                    minibatch = random.sample(self.memory, self.batch_size)\n",
    "                    s = torch.tensor([mb[0] for mb in minibatch], dtype=torch.float32)\n",
    "                    a = torch.tensor([mb[1] for mb in minibatch], dtype=torch.float32)\n",
    "                    r = torch.tensor([mb[2] for mb in minibatch], dtype=torch.float32)\n",
    "                    s_p = torch.tensor([mb[3] for mb in minibatch], dtype=torch.float32)\n",
    "                    d = torch.tensor([mb[4] for mb in minibatch], dtype=torch.float32)\n",
    "                    \n",
    "                    y = r.reshape(r.shape[0], 1) + self.gamma * (1 - d.reshape(d.shape[0],1)) * self.critic_target(s_p, self.actor_target(s_p)) \n",
    "\n",
    "                    c = self.critic(s, a) \n",
    "\n",
    "\n",
    "                    loss = self.MSELoss(c, y)\n",
    "                    self.critic_optimizer.zero_grad()\n",
    "                    loss.backward()\n",
    "                    self.critic_optimizer.step()\n",
    "\n",
    "                    policy_loss = -self.critic(s, self.actor(s)).mean()\n",
    "                    self.actor_optimizer.zero_grad()\n",
    "                    policy_loss.backward()\n",
    "                    self.actor_optimizer.step()\n",
    "\n",
    "                    for target_param, param in zip(self.actor_target.parameters(), self.actor.parameters()):\n",
    "                        target_param.data.copy_(param.data * self.tau + target_param.data * (1.0 - self.tau))\n",
    "\n",
    "                    for target_param, param in zip(self.critic_target.parameters(), self.critic.parameters()):\n",
    "                        target_param.data.copy_(param.data * self.tau + target_param.data * (1.0 - self.tau))\n",
    "                            \n",
    "            print(\"Reward cumulé pour cet épisode : \", rewards)\n",
    "            all_rewards.append(rewards)\n",
    "                \n",
    "        return all_rewards"
   ]
  },
  {
   "cell_type": "markdown",
   "metadata": {},
   "source": [
    "## Pendulum"
   ]
  },
  {
   "cell_type": "code",
   "execution_count": null,
   "metadata": {},
   "outputs": [],
   "source": [
    "env_id = 'Pendulum-v0'\n",
    "outdir = 'Pendulum-v0/random-agent-results'\n",
    "envx = gym.make(env_id)\n",
    "envx.verbose = True\n",
    "env = envx\n",
    "envm = wrappers.Monitor(envx, directory=outdir, force=True,\n",
    "                       video_callable=False)\n",
    "\n",
    "\n",
    "print(envm.observation_space.shape[0])\n",
    "print(envm.action_space.shape[0])\n",
    "print(envm.action_space.low[0])\n",
    "\n",
    "h1_size = 256\n",
    "h2_size = 256\n",
    "capacity = 50000\n",
    "batch_size = 128\n",
    "\n",
    "agent = DDPG(h1_size, h2_size, envm, capacity, batch_size)\n",
    "\n",
    "cr = agent.fit()"
   ]
  },
  {
   "cell_type": "code",
   "execution_count": 68,
   "metadata": {},
   "outputs": [],
   "source": [
    "np.save(\"ddpg_pendulum\", cr)"
   ]
  },
  {
   "cell_type": "markdown",
   "metadata": {},
   "source": [
    "## Mountain Car"
   ]
  },
  {
   "cell_type": "code",
   "execution_count": null,
   "metadata": {},
   "outputs": [],
   "source": [
    "env_id = 'MountainCarContinuous-v0'\n",
    "outdir = 'MountainCarContinuous-v0/random-agent-results'\n",
    "envx = gym.make(env_id)\n",
    "envx.verbose = True\n",
    "env = envx\n",
    "envm = wrappers.Monitor(envx, directory=outdir, force=True,\n",
    "                       video_callable=False)\n",
    "\n",
    "\n",
    "print(envm.observation_space.shape[0])\n",
    "print(envm.action_space.shape[0])\n",
    "print(envm.action_space.low[0])\n",
    "\n",
    "h1_size = 256\n",
    "h2_size = 256\n",
    "capacity = 50000\n",
    "batch_size = 128\n",
    "\n",
    "agent = DDPG(h1_size, h2_size, envm, capacity, batch_size)\n",
    "\n",
    "cr2 = agent.fit()"
   ]
  },
  {
   "cell_type": "code",
   "execution_count": 69,
   "metadata": {},
   "outputs": [],
   "source": [
    "np.save(\"ddpg_mountaincar\", cr2)"
   ]
  },
  {
   "cell_type": "markdown",
   "metadata": {},
   "source": [
    "## Lunar Lander"
   ]
  },
  {
   "cell_type": "code",
   "execution_count": null,
   "metadata": {},
   "outputs": [],
   "source": [
    "env_id = 'LunarLanderContinuous-v2'\n",
    "outdir = 'LunarLanderContinuous-v2/random-agent-results'\n",
    "envx = gym.make(env_id)\n",
    "envx.verbose = True\n",
    "env = envx\n",
    "envm = wrappers.Monitor(envx, directory=outdir, force=True,\n",
    "                       video_callable=False)\n",
    "\n",
    "\n",
    "print(envm.observation_space.shape[0])\n",
    "print(envm.action_space.shape[0])\n",
    "print(envm.action_space.low[0])\n",
    "\n",
    "h1_size = 256\n",
    "h2_size = 256\n",
    "capacity = 50000\n",
    "batch_size = 128\n",
    "\n",
    "agent = DDPG(h1_size, h2_size, envm, capacity, batch_size)\n",
    "\n",
    "cr3 = agent.fit()"
   ]
  },
  {
   "cell_type": "code",
   "execution_count": 86,
   "metadata": {},
   "outputs": [],
   "source": [
    "np.save(\"ddpg_lunarlander\", cr3)"
   ]
  },
  {
   "cell_type": "code",
   "execution_count": 95,
   "metadata": {},
   "outputs": [
    {
     "name": "stderr",
     "output_type": "stream",
     "text": [
      "No handles with labels found to put in legend.\n"
     ]
    },
    {
     "data": {
      "image/png": "[encoded data removed]",
      "text/plain": [
       "<Figure size 720x360 with 1 Axes>"
      ]
     },
     "metadata": {
      "needs_background": "light"
     },
     "output_type": "display_data"
    }
   ],
   "source": [
    "fig, ax = plt.subplots(figsize=(10, 5))\n",
    "ax.grid()\n",
    "ax.set(xlabel='Episode', ylabel='Reward',\n",
    "       title='Evolution du reward par épisode')\n",
    "\n",
    "#plt.plot(np.arange(len(cr)), cr, 'b' )\n",
    "\n",
    "#plt.plot(np.arange(len(cr2)), cr2, 'r')\n",
    "\n",
    "plt.plot(np.arange(len(cr3)), cr3, 'g' )\n",
    "\n",
    "\n",
    "ax.legend()\n",
    "plt.show()"
   ]
  },
  {
   "cell_type": "code",
   "execution_count": null,
   "metadata": {},
   "outputs": [],
   "source": []
  }
 ],
 "metadata": {
  "kernelspec": {
   "display_name": "Python 3",
   "language": "python",
   "name": "python3"
  },
  "language_info": {
   "codemirror_mode": {
    "name": "ipython",
    "version": 3
   },
   "file_extension": ".py",
   "mimetype": "text/x-python",
   "name": "python",
   "nbconvert_exporter": "python",
   "pygments_lexer": "ipython3",
   "version": "3.6.5"
  }
 },
 "nbformat": 4,
 "nbformat_minor": 4
}
